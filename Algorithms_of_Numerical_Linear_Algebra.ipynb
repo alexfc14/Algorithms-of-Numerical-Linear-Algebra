{
  "nbformat": 4,
  "nbformat_minor": 0,
  "metadata": {
    "kernelspec": {
      "display_name": "Python 3",
      "language": "python",
      "name": "python3"
    },
    "language_info": {
      "codemirror_mode": {
        "name": "ipython",
        "version": 3
      },
      "file_extension": ".py",
      "mimetype": "text/x-python",
      "name": "python",
      "nbconvert_exporter": "python",
      "pygments_lexer": "ipython3",
      "version": "3.6.1"
    },
    "colab": {
      "name": "Algorithms of Numerical Linear Algebra.ipynb",
      "provenance": [],
      "include_colab_link": true
    }
  },
  "cells": [
    {
      "cell_type": "markdown",
      "metadata": {
        "id": "view-in-github",
        "colab_type": "text"
      },
      "source": [
        "<a href=\"https://colab.research.google.com/github/alexfc14/Algorithms-of-Numerical-Linear-Algebra/blob/master/Algorithms_of_Numerical_Linear_Algebra.ipynb\" target=\"_parent\"><img src=\"https://colab.research.google.com/assets/colab-badge.svg\" alt=\"Open In Colab\"/></a>"
      ]
    },
    {
      "cell_type": "markdown",
      "metadata": {
        "id": "uT6_3342bALb",
        "colab_type": "text"
      },
      "source": [
        "This notebook contains **implementations** (not library usages) of the algorithms from **Numerical Linear Algebra** lectures, from the *Masters Degree in Foundations of Data Science*, at *Universitat de Barcelona*.\n",
        "\n",
        "*Slicing is used when available, leaving for loops commented out."
      ]
    },
    {
      "cell_type": "code",
      "metadata": {
        "id": "VMOMVEkCbALc",
        "colab_type": "code",
        "colab": {}
      },
      "source": [
        "import numpy as np"
      ],
      "execution_count": null,
      "outputs": []
    },
    {
      "cell_type": "markdown",
      "metadata": {
        "id": "tOtF8N48bALi",
        "colab_type": "text"
      },
      "source": [
        "## $LU$ GE No P\n",
        "\n",
        "Perform a Lower Upper Decomposition using Gaussian Elimination without Pivoting."
      ]
    },
    {
      "cell_type": "code",
      "metadata": {
        "id": "ooBfdnqObALj",
        "colab_type": "code",
        "colab": {}
      },
      "source": [
        "def lunpiv(A_,ptol=10**-10): #return L,U. No pivoting.\n",
        "    A = A_.copy()\n",
        "    n=A.shape[0]\n",
        "    for k in range(n-1):\n",
        "        pivot = A[k,k]\n",
        "        if abs(pivot)<ptol:\n",
        "            print('zero pivot encountered')\n",
        "            break\n",
        "        A[k+1:,k]/=pivot\n",
        "        A[k+1:,k+1:]-=np.outer(A[k+1:,k],A[k,k+1:])\n",
        "        #for i in range(k+1,n):\n",
        "        #    A[i,k]=A[i,k]/pivot\n",
        "        #    for j in range(k+1,n):\n",
        "        #        A[i,j]=A[i,j]-A[i,k]*A[k,j]\n",
        "        #A is used to store both L and U. Next we split them\n",
        "    L=np.eye(n)+np.tril(A,-1)\n",
        "    U=np.triu(A)\n",
        "    return L,U"
      ],
      "execution_count": null,
      "outputs": []
    },
    {
      "cell_type": "markdown",
      "metadata": {
        "id": "Zfiz0OwbbALn",
        "colab_type": "text"
      },
      "source": [
        "## $LA=B$\n",
        "\n",
        "Solve a lower triangular system."
      ]
    },
    {
      "cell_type": "code",
      "metadata": {
        "id": "DBgQ7BXWbALo",
        "colab_type": "code",
        "colab": {},
        "outputId": "bd22b9ec-eef4-41c1-a224-53e820188a1f"
      },
      "source": [
        "def L_solve(L,B):\n",
        "    \"\"\"Find A so that L*A = B profiting the lower triangular structure of L.\"\"\"\n",
        "    n = L.shape[1]#number of rows of A = number of cols of L\n",
        "    m = B.shape[1]#number of cols of A = number of cols of B\n",
        "    A = np.zeros((n,m))\n",
        "    for i in range(n):\n",
        "        A[i,:]=(B[i,:]-L[i,:i].dot(A[:i,:]))/L[i,i]\n",
        "        #for j in range(m):\n",
        "        #    A[i,j]=B[i,j]\n",
        "        #    for k in range(i):\n",
        "        #        A[i,j]-=L[i,k]*A[k,j]\n",
        "        #    A[i,j]/=L[i,i]\n",
        "    return A\n",
        "\n",
        "n=2\n",
        "B = np.random.rand(n,n)\n",
        "print(\"B\\n\", B)\n",
        "L,U = lunpiv(B)\n",
        "print(\"L\\n\", L)\n",
        "print(\"U\\n\", U)\n",
        "U_s = L_solve(L,B)\n",
        "print(\"U_s\\n\", U_s)\n",
        "'err',np.max(abs(U_s-U))"
      ],
      "execution_count": null,
      "outputs": [
        {
          "output_type": "stream",
          "text": [
            "B\n",
            " [[ 0.53490028  0.76296351]\n",
            " [ 0.42099321  0.45086935]]\n",
            "L\n",
            " [[ 1.         0.       ]\n",
            " [ 0.7870499  1.       ]]\n",
            "U\n",
            " [[ 0.53490028  0.76296351]\n",
            " [ 0.         -0.149621  ]]\n",
            "U_s\n",
            " [[ 0.53490028  0.76296351]\n",
            " [ 0.         -0.149621  ]]\n"
          ],
          "name": "stdout"
        },
        {
          "output_type": "execute_result",
          "data": {
            "text/plain": [
              "('err', 0.0)"
            ]
          },
          "metadata": {
            "tags": []
          },
          "execution_count": 3
        }
      ]
    },
    {
      "cell_type": "code",
      "metadata": {
        "id": "CUmMyP53bALs",
        "colab_type": "code",
        "colab": {},
        "outputId": "33ad08ac-be91-40fc-a2e4-cd9435a5ae59"
      },
      "source": [
        "def U_solve(U,B):\n",
        "    \"\"\"Find A so that U*A = B profiting the upper triangular structure of U.\"\"\"\n",
        "    n = U.shape[1]#number of rows of A = number of cols of L\n",
        "    m = B.shape[1]#number of cols of A = number of cols of B\n",
        "    A = np.zeros((n,m))\n",
        "    for i in range(n-1,-1,-1):\n",
        "        A[i,:]=(B[i,:]-U[i,i+1:].dot(A[i+1:,:]))/U[i,i]\n",
        "    return A\n",
        "\n",
        "B=np.random.rand(n,n)\n",
        "A=U_solve(U,B)\n",
        "'err',np.max(abs(U.dot(A)-B))"
      ],
      "execution_count": null,
      "outputs": [
        {
          "output_type": "execute_result",
          "data": {
            "text/plain": [
              "('err', 1.1102230246251565e-16)"
            ]
          },
          "metadata": {
            "tags": []
          },
          "execution_count": 342
        }
      ]
    },
    {
      "cell_type": "markdown",
      "metadata": {
        "id": "SxRNW3q3bALv",
        "colab_type": "text"
      },
      "source": [
        "## $LL^T$ Cholesky\n",
        "\n",
        "Perform the Cholesky decomposition of a symmetric matrix."
      ]
    },
    {
      "cell_type": "code",
      "metadata": {
        "id": "w5wLf6a-bALv",
        "colab_type": "code",
        "colab": {},
        "outputId": "c20e6161-4957-4d67-9145-df86acb51d84"
      },
      "source": [
        "def Cholesky(A):\n",
        "    n=A.shape[0]\n",
        "    L=np.zeros((n,n))\n",
        "    for j in range(n):\n",
        "        L[j,j]=np.sqrt( A[j,j]-L[j,:j].dot(L[j,:j]) )\n",
        "        #L[j,j]=A[j,j]\n",
        "        #for k in range(j):\n",
        "        #    L[j,j]-=L[j,k]*L[j,k]\n",
        "        #L[j,j]=np.sqrt(L[j,j])\n",
        "        for i in range(j+1,n):\n",
        "            L[i,j]=( A[i,j]-L[i,:j].dot(L[j,:j]) )/L[j,j]\n",
        "            #L[i,j]=A[i,j]\n",
        "            #for k in range(j):\n",
        "            #    L[i,j]-=L[i,k]*L[j,k]\n",
        "            #L[i,j]/=L[j,j]\n",
        "    return L\n",
        "A=np.array([\n",
        "[25, 15, -5],\n",
        "[15, 18,  0],\n",
        "[-5,  0,  11]])\n",
        "L = Cholesky(A)\n",
        "print('L\\n',L)\n",
        "print('max abs err',np.max(abs(L.dot(L.T)-A)))"
      ],
      "execution_count": null,
      "outputs": [
        {
          "output_type": "stream",
          "text": [
            "L\n",
            " [[ 5.  0.  0.]\n",
            " [ 3.  3.  0.]\n",
            " [-1.  1.  3.]]\n",
            "max abs err 0.0\n"
          ],
          "name": "stdout"
        }
      ]
    },
    {
      "cell_type": "markdown",
      "metadata": {
        "id": "kBKfTVxkbALz",
        "colab_type": "text"
      },
      "source": [
        "## Cholesky Linear Squares\n",
        "\n",
        "Solve a Linear Squares problem $Ax=b$ by decomposing the symmetric matrix $A^TA$ as $LL^T$ from the system we obtain if we multiply leftwise by $A^T$, $A^TAx=A^Tb$, and then solve the lower triangular system $L y = A^Tb$ for $y=L^Tx$, and finally solve the upper triangular system $L^Tx=y$ for $x$."
      ]
    },
    {
      "cell_type": "code",
      "metadata": {
        "id": "8_uuvRRSbALz",
        "colab_type": "code",
        "colab": {},
        "outputId": "dc893482-cdda-440c-e2f4-368739a250e9"
      },
      "source": [
        "def LS_cholesky(A,b):\n",
        "    \"\"\"Solve A^TAx=A^Tb from Ax=b\"\"\"\n",
        "    L=Cholesky(A.T.dot(A))#LLT = ATA\n",
        "    LTx = L_solve(L,A.T.dot(b))\n",
        "    x = U_solve(L.T,LTx)\n",
        "    return x\n",
        "\n",
        "A=np.array([\n",
        "    [1,2],\n",
        "    [3,4],\n",
        "    [5,6],\n",
        "])\n",
        "b=np.array([\n",
        "    [0],\n",
        "    [1],\n",
        "    [-1]\n",
        "])\n",
        "x=LS_cholesky(A,b)\n",
        "print('x',x)\n",
        "print('err',np.linalg.norm(A.dot(x)-b))"
      ],
      "execution_count": null,
      "outputs": [
        {
          "output_type": "stream",
          "text": [
            "x [[-1.  ]\n",
            " [ 0.75]]\n",
            "err 1.22474487139\n"
          ],
          "name": "stdout"
        }
      ]
    },
    {
      "cell_type": "markdown",
      "metadata": {
        "id": "rHUSGsaEbAL3",
        "colab_type": "text"
      },
      "source": [
        "## QR decomposition\n",
        "\n",
        "Decompose a matrix $A=QR$ where $Q$ is unitary, $Q^TQ=I$, and $R$ is upper triangular."
      ]
    },
    {
      "cell_type": "markdown",
      "metadata": {
        "id": "KxEYgK6EbAL4",
        "colab_type": "text"
      },
      "source": [
        "### QR using Gram-Schmidt\n",
        "\n",
        "Orthonormalize the columns of $A$ into $Q$ and store the dot original products in $R$.\n",
        "\n",
        "It is numerically unstable because of dividing by the column norms."
      ]
    },
    {
      "cell_type": "code",
      "metadata": {
        "id": "zERNLfmDbAL5",
        "colab_type": "code",
        "colab": {},
        "outputId": "518c6e32-3723-4124-fb7a-d9c7f0a7d91a"
      },
      "source": [
        "def QR_gs(A):\n",
        "    m,n=A.shape\n",
        "    Q=np.zeros((m,n))\n",
        "    R=np.zeros((n,n))\n",
        "    for j in range(n):\n",
        "        Q[:,j]=A[:,j]\n",
        "        for i in range(j):\n",
        "            R[i,j]=Q[:,i].T.dot(Q[:,j])\n",
        "            Q[:,j]-=R[i,j]*Q[:,i]\n",
        "        R[j,j]=np.linalg.norm(Q[:,j])\n",
        "        Q[:,j]/=R[j,j]\n",
        "    return Q,R\n",
        "\n",
        "print('A\\n',A)\n",
        "Q,R=QR_gs(A)\n",
        "print('Q\\n',Q)\n",
        "print('R\\n',R)\n",
        "print('err',np.max(abs(A-Q.dot(R))))"
      ],
      "execution_count": null,
      "outputs": [
        {
          "output_type": "stream",
          "text": [
            "A\n",
            " [[1 2]\n",
            " [3 4]\n",
            " [5 6]]\n",
            "Q\n",
            " [[ 0.16903085  0.89708523]\n",
            " [ 0.50709255  0.27602622]\n",
            " [ 0.84515425 -0.34503278]]\n",
            "R\n",
            " [[ 5.91607978  7.43735744]\n",
            " [ 0.          0.82807867]]\n",
            "err 0.0\n"
          ],
          "name": "stdout"
        }
      ]
    },
    {
      "cell_type": "markdown",
      "metadata": {
        "id": "w6zMjzHLbAL8",
        "colab_type": "text"
      },
      "source": [
        "## Least Squares using QR\n",
        "\n",
        "Solve $Ax=b$ using the QR decomposition $A=QR$: multiply left-wise by $Q^T$ and solve the upper triangular system $Rx=Q^Tb$."
      ]
    },
    {
      "cell_type": "code",
      "metadata": {
        "id": "BNZ4NwJ2bAL9",
        "colab_type": "code",
        "colab": {},
        "outputId": "4afb5e23-e515-499b-dff2-e88fad5cce18"
      },
      "source": [
        "def LS_qr(A,b):\n",
        "    \"\"\"Solve Ax=b with A=QR, Rx=Q^Tb\"\"\"\n",
        "    Q,R = QR_gs(A)\n",
        "    x = U_solve(R,Q.T.dot(b))\n",
        "    return x\n",
        "\n",
        "A=np.array([\n",
        "    [1,2],\n",
        "    [3,4],\n",
        "    [5,6],\n",
        "])\n",
        "b=np.array([\n",
        "    [0],\n",
        "    [1],\n",
        "    [-1]\n",
        "])\n",
        "x=LS_qr(A,b)\n",
        "print('x',x)\n",
        "print('err',np.linalg.norm(A.dot(x)-b))"
      ],
      "execution_count": null,
      "outputs": [
        {
          "output_type": "stream",
          "text": [
            "x [[-1.  ]\n",
            " [ 0.75]]\n",
            "err 1.22474487139\n"
          ],
          "name": "stdout"
        }
      ]
    },
    {
      "cell_type": "markdown",
      "metadata": {
        "id": "ElAc255ubAMA",
        "colab_type": "text"
      },
      "source": [
        "### QR using Householder\n",
        "\n",
        "Eliminate under diagonal elements using Householder plane reflections, which make up the unitary matrix $Q$."
      ]
    },
    {
      "cell_type": "code",
      "metadata": {
        "scrolled": true,
        "id": "Nk9UNF55bAMB",
        "colab_type": "code",
        "colab": {},
        "outputId": "15346b4b-41cc-42a7-99fb-12ebca3627e1"
      },
      "source": [
        "def QR_hh(A):\n",
        "    m,n=A.shape\n",
        "    Q=np.eye(m)\n",
        "    R=A.copy()\n",
        "    def House_P(x):\n",
        "        print('x',x)\n",
        "        u=x.copy()\n",
        "        s=np.sign(x[0])\n",
        "        if s==0:\n",
        "            s=1\n",
        "        u[0]+=s*np.linalg.norm(x)\n",
        "        print('u',u)\n",
        "        return np.eye(u.shape[0])-2*np.outer(u,u)/np.dot(u.T,u)\n",
        "    for i in range(n):\n",
        "        P=House_P(R[i:,i])\n",
        "        print('i',i,'n',n,'m',m,'P shape',P.shape)\n",
        "        if P.shape[0]!=m:\n",
        "            P=np.bmat([[np.eye(i),np.zeros((i,m-i))],\n",
        "                       [np.zeros((m-i,i)),P]])\n",
        "        print('P',P)\n",
        "        Q=Q.dot(P)\n",
        "        R=P.dot(R)\n",
        "        print('Q\\n',Q)\n",
        "        print('R\\n',R)\n",
        "        print('QTA is\\n',Q.T.dot(A))\n",
        "    return Q[:,:n],R[:n,:n]\n",
        "\n",
        "B=np.array([\n",
        "    [1,-1,4],\n",
        "    [1,4,-2],\n",
        "    [1,4,2],\n",
        "    [1,-1,0]\n",
        "])\n",
        "print('A\\n',B)\n",
        "Q,R=QR_hh(B)\n",
        "print('Q\\n',Q)\n",
        "print('R\\n',R)\n",
        "print('err',np.max(abs(B-Q.dot(R))))"
      ],
      "execution_count": null,
      "outputs": [
        {
          "output_type": "stream",
          "text": [
            "A\n",
            " [[ 1 -1  4]\n",
            " [ 1  4 -2]\n",
            " [ 1  4  2]\n",
            " [ 1 -1  0]]\n",
            "x [1 1 1 1]\n",
            "u [3 1 1 1]\n",
            "i 0 n 3 m 4 P shape (4, 4)\n",
            "P [[-0.5        -0.5        -0.5        -0.5       ]\n",
            " [-0.5         0.83333333 -0.16666667 -0.16666667]\n",
            " [-0.5        -0.16666667  0.83333333 -0.16666667]\n",
            " [-0.5        -0.16666667 -0.16666667  0.83333333]]\n",
            "Q\n",
            " [[-0.5        -0.5        -0.5        -0.5       ]\n",
            " [-0.5         0.83333333 -0.16666667 -0.16666667]\n",
            " [-0.5        -0.16666667  0.83333333 -0.16666667]\n",
            " [-0.5        -0.16666667 -0.16666667  0.83333333]]\n",
            "R\n",
            " [[ -2.00000000e+00  -3.00000000e+00  -2.00000000e+00]\n",
            " [  1.11022302e-16   3.33333333e+00  -4.00000000e+00]\n",
            " [  5.55111512e-17   3.33333333e+00   5.55111512e-17]\n",
            " [  1.11022302e-16  -1.66666667e+00  -2.00000000e+00]]\n",
            "QTA is\n",
            " [[ -2.00000000e+00  -3.00000000e+00  -2.00000000e+00]\n",
            " [  1.11022302e-16   3.33333333e+00  -4.00000000e+00]\n",
            " [  5.55111512e-17   3.33333333e+00   5.55111512e-17]\n",
            " [  1.11022302e-16  -1.66666667e+00  -2.00000000e+00]]\n",
            "x [ 3.33333333  3.33333333 -1.66666667]\n",
            "u [ 8.33333333  3.33333333 -1.66666667]\n",
            "i 1 n 3 m 4 P shape (3, 3)\n",
            "P [[ 1.          0.          0.          0.        ]\n",
            " [ 0.         -0.66666667 -0.66666667  0.33333333]\n",
            " [ 0.         -0.66666667  0.73333333  0.13333333]\n",
            " [ 0.          0.33333333  0.13333333  0.93333333]]\n",
            "Q\n",
            " [[-0.5  0.5 -0.1 -0.7]\n",
            " [-0.5 -0.5 -0.7  0.1]\n",
            " [-0.5 -0.5  0.7 -0.1]\n",
            " [-0.5  0.5  0.1  0.7]]\n",
            "R\n",
            " [[ -2.00000000e+00  -3.00000000e+00  -2.00000000e+00]\n",
            " [ -7.40148683e-17  -5.00000000e+00   2.00000000e+00]\n",
            " [ -1.85037171e-17  -4.44089210e-16   2.40000000e+00]\n",
            " [  1.48029737e-16   5.55111512e-17  -3.20000000e+00]]\n",
            "QTA is\n",
            " [[ -2.00000000e+00  -3.00000000e+00  -2.00000000e+00]\n",
            " [ -1.11022302e-16  -5.00000000e+00   2.00000000e+00]\n",
            " [ -1.11022302e-16  -4.44089210e-16   2.40000000e+00]\n",
            " [  1.11022302e-16  -5.55111512e-17  -3.20000000e+00]]\n",
            "x [[ 2.4]\n",
            " [-3.2]]\n",
            "u [[ 6.4]\n",
            " [-3.2]]\n",
            "i 2 n 3 m 4 P shape (2, 2)\n",
            "P [[ 1.   0.   0.   0. ]\n",
            " [ 0.   1.   0.   0. ]\n",
            " [ 0.   0.  -0.6  0.8]\n",
            " [ 0.   0.   0.8  0.6]]\n",
            "Q\n",
            " [[-0.5  0.5 -0.5 -0.5]\n",
            " [-0.5 -0.5  0.5 -0.5]\n",
            " [-0.5 -0.5 -0.5  0.5]\n",
            " [-0.5  0.5  0.5  0.5]]\n",
            "R\n",
            " [[ -2.00000000e+00  -3.00000000e+00  -2.00000000e+00]\n",
            " [ -7.40148683e-17  -5.00000000e+00   2.00000000e+00]\n",
            " [  1.29526020e-16   3.10862447e-16  -4.00000000e+00]\n",
            " [  7.40148683e-17  -3.21964677e-16   4.44089210e-16]]\n",
            "QTA is\n",
            " [[ -2.00000000e+00  -3.00000000e+00  -2.00000000e+00]\n",
            " [ -1.11022302e-16  -5.00000000e+00   2.00000000e+00]\n",
            " [  2.22044605e-16   4.44089210e-16  -4.00000000e+00]\n",
            " [ -1.11022302e-16  -4.44089210e-16   2.22044605e-16]]\n",
            "Q\n",
            " [[-0.5  0.5 -0.5]\n",
            " [-0.5 -0.5  0.5]\n",
            " [-0.5 -0.5 -0.5]\n",
            " [-0.5  0.5  0.5]]\n",
            "R\n",
            " [[ -2.00000000e+00  -3.00000000e+00  -2.00000000e+00]\n",
            " [ -7.40148683e-17  -5.00000000e+00   2.00000000e+00]\n",
            " [  1.29526020e-16   3.10862447e-16  -4.00000000e+00]]\n",
            "err 1.7763568394e-15\n"
          ],
          "name": "stdout"
        }
      ]
    },
    {
      "cell_type": "markdown",
      "metadata": {
        "id": "qRLf_UV2bAMF",
        "colab_type": "text"
      },
      "source": [
        "### QR using Givens Rotation\n",
        "\n",
        "Eliminate under diagonal elements using Householder Givens rotations, which make up the unitary matrix $Q$."
      ]
    },
    {
      "cell_type": "code",
      "metadata": {
        "scrolled": true,
        "id": "4WvUqHUibAMF",
        "colab_type": "code",
        "colab": {},
        "outputId": "0b4bf9f9-1811-414c-ec6b-a84a9623c625"
      },
      "source": [
        "def QR_gr(A):\n",
        "    m,n=A.shape\n",
        "    Q=np.eye(m)\n",
        "    R=A.copy()\n",
        "    def Givens(xi,xj,i,j,m):\n",
        "        mu=np.sqrt(xi**2+xj**2)\n",
        "        cos=xi/mu\n",
        "        sin=xj/mu\n",
        "        P=np.eye(m)\n",
        "        P[i,i]=cos\n",
        "        P[i,j]=sin\n",
        "        P[j,i]=-sin\n",
        "        P[j,j]=cos\n",
        "        return P\n",
        "    for j in range(n):\n",
        "        for i in range(j+1,m):\n",
        "            print('\\ncancel entry',i+1,j+1)\n",
        "            P=Givens(R[j,j],R[i,j],j,i,m)\n",
        "            print('P',P)\n",
        "            Q=Q.dot(P.T)\n",
        "            R=P.dot(R)\n",
        "            print('Q\\n',Q)\n",
        "            print('R\\n',R)\n",
        "            print('QTA is\\n',Q.T.dot(A))        \n",
        "    return Q[:,:n],R[:n,:n]\n",
        "\n",
        "B=np.array([\n",
        "    [1,-1,4],\n",
        "    [1,4,-2],\n",
        "    [1,4,2],\n",
        "    [1,-1,0]\n",
        "])\n",
        "print('A\\n',B)\n",
        "Q,R=QR_hh(B)\n",
        "print('Q\\n',Q)\n",
        "print('R\\n',R)\n",
        "print('err',np.max(abs(B-Q.dot(R))))"
      ],
      "execution_count": null,
      "outputs": [
        {
          "output_type": "stream",
          "text": [
            "A\n",
            " [[ 1 -1  4]\n",
            " [ 1  4 -2]\n",
            " [ 1  4  2]\n",
            " [ 1 -1  0]]\n",
            "x [1 1 1 1]\n",
            "u [3 1 1 1]\n",
            "i 0 n 3 m 4 P shape (4, 4)\n",
            "P [[-0.5        -0.5        -0.5        -0.5       ]\n",
            " [-0.5         0.83333333 -0.16666667 -0.16666667]\n",
            " [-0.5        -0.16666667  0.83333333 -0.16666667]\n",
            " [-0.5        -0.16666667 -0.16666667  0.83333333]]\n",
            "Q\n",
            " [[-0.5        -0.5        -0.5        -0.5       ]\n",
            " [-0.5         0.83333333 -0.16666667 -0.16666667]\n",
            " [-0.5        -0.16666667  0.83333333 -0.16666667]\n",
            " [-0.5        -0.16666667 -0.16666667  0.83333333]]\n",
            "R\n",
            " [[ -2.00000000e+00  -3.00000000e+00  -2.00000000e+00]\n",
            " [  1.11022302e-16   3.33333333e+00  -4.00000000e+00]\n",
            " [  5.55111512e-17   3.33333333e+00   5.55111512e-17]\n",
            " [  1.11022302e-16  -1.66666667e+00  -2.00000000e+00]]\n",
            "QTA is\n",
            " [[ -2.00000000e+00  -3.00000000e+00  -2.00000000e+00]\n",
            " [  1.11022302e-16   3.33333333e+00  -4.00000000e+00]\n",
            " [  5.55111512e-17   3.33333333e+00   5.55111512e-17]\n",
            " [  1.11022302e-16  -1.66666667e+00  -2.00000000e+00]]\n",
            "x [ 3.33333333  3.33333333 -1.66666667]\n",
            "u [ 8.33333333  3.33333333 -1.66666667]\n",
            "i 1 n 3 m 4 P shape (3, 3)\n",
            "P [[ 1.          0.          0.          0.        ]\n",
            " [ 0.         -0.66666667 -0.66666667  0.33333333]\n",
            " [ 0.         -0.66666667  0.73333333  0.13333333]\n",
            " [ 0.          0.33333333  0.13333333  0.93333333]]\n",
            "Q\n",
            " [[-0.5  0.5 -0.1 -0.7]\n",
            " [-0.5 -0.5 -0.7  0.1]\n",
            " [-0.5 -0.5  0.7 -0.1]\n",
            " [-0.5  0.5  0.1  0.7]]\n",
            "R\n",
            " [[ -2.00000000e+00  -3.00000000e+00  -2.00000000e+00]\n",
            " [ -7.40148683e-17  -5.00000000e+00   2.00000000e+00]\n",
            " [ -1.85037171e-17  -4.44089210e-16   2.40000000e+00]\n",
            " [  1.48029737e-16   5.55111512e-17  -3.20000000e+00]]\n",
            "QTA is\n",
            " [[ -2.00000000e+00  -3.00000000e+00  -2.00000000e+00]\n",
            " [ -1.11022302e-16  -5.00000000e+00   2.00000000e+00]\n",
            " [ -1.11022302e-16  -4.44089210e-16   2.40000000e+00]\n",
            " [  1.11022302e-16  -5.55111512e-17  -3.20000000e+00]]\n",
            "x [[ 2.4]\n",
            " [-3.2]]\n",
            "u [[ 6.4]\n",
            " [-3.2]]\n",
            "i 2 n 3 m 4 P shape (2, 2)\n",
            "P [[ 1.   0.   0.   0. ]\n",
            " [ 0.   1.   0.   0. ]\n",
            " [ 0.   0.  -0.6  0.8]\n",
            " [ 0.   0.   0.8  0.6]]\n",
            "Q\n",
            " [[-0.5  0.5 -0.5 -0.5]\n",
            " [-0.5 -0.5  0.5 -0.5]\n",
            " [-0.5 -0.5 -0.5  0.5]\n",
            " [-0.5  0.5  0.5  0.5]]\n",
            "R\n",
            " [[ -2.00000000e+00  -3.00000000e+00  -2.00000000e+00]\n",
            " [ -7.40148683e-17  -5.00000000e+00   2.00000000e+00]\n",
            " [  1.29526020e-16   3.10862447e-16  -4.00000000e+00]\n",
            " [  7.40148683e-17  -3.21964677e-16   4.44089210e-16]]\n",
            "QTA is\n",
            " [[ -2.00000000e+00  -3.00000000e+00  -2.00000000e+00]\n",
            " [ -1.11022302e-16  -5.00000000e+00   2.00000000e+00]\n",
            " [  2.22044605e-16   4.44089210e-16  -4.00000000e+00]\n",
            " [ -1.11022302e-16  -4.44089210e-16   2.22044605e-16]]\n",
            "Q\n",
            " [[-0.5  0.5 -0.5]\n",
            " [-0.5 -0.5  0.5]\n",
            " [-0.5 -0.5 -0.5]\n",
            " [-0.5  0.5  0.5]]\n",
            "R\n",
            " [[ -2.00000000e+00  -3.00000000e+00  -2.00000000e+00]\n",
            " [ -7.40148683e-17  -5.00000000e+00   2.00000000e+00]\n",
            " [  1.29526020e-16   3.10862447e-16  -4.00000000e+00]]\n",
            "err 1.7763568394e-15\n"
          ],
          "name": "stdout"
        }
      ]
    },
    {
      "cell_type": "markdown",
      "metadata": {
        "id": "TjhtR3BEbAMI",
        "colab_type": "text"
      },
      "source": [
        "## SVD $A=U\\Sigma V^T$\n",
        "\n",
        "Perform the Singular Value Decomposition:\n",
        " - arrange the eigenvectors of $AA^T$ in the rows of $U$\n",
        " - arrange the eigenvalues square absolute roots in the diagonal of $\\Sigma$\n",
        " - arrange the eigenvectors of $A^TA$ in the rows of $V^T$\n",
        " \n",
        " all in descending order of eigenvalues."
      ]
    },
    {
      "cell_type": "code",
      "metadata": {
        "id": "zf88PMTkbAMJ",
        "colab_type": "code",
        "colab": {},
        "outputId": "b088c973-c9c5-4c36-bd37-46a774b46c29"
      },
      "source": [
        "from scipy import linalg as spla\n",
        "def SVD_spec(A):\n",
        "    m,n=A.shape\n",
        "    AtA=np.dot(A.T,A)\n",
        "    AAt=np.dot(A,A.T)\n",
        "        \n",
        "    vaps_AAt, veps_AAt = spla.eig(AAt,right=True)\n",
        "    vaps_AtA, veps_AtA = spla.eig(AtA,right=True)\n",
        "    print(\"eigenvalues AAt\\n\", vaps_AAt)\n",
        "    print(\"eigenvalues AtA\\n\", vaps_AtA)\n",
        "    L_AAt = np.argsort(vaps_AAt)[::-1]\n",
        "    L_AtA = np.argsort(vaps_AtA)[::-1]\n",
        "    S = np.zeros((m,n))\n",
        "    for i in range(0,n):\n",
        "        S[i,i] = np.sqrt(abs(vaps_AAt[L_AAt[i]]))\n",
        "    U = np.zeros((m,m))\n",
        "    for i in range(0,m):\n",
        "        U[i] = veps_AAt[L_AAt[i]]\n",
        "    Vt = np.zeros((n,n))\n",
        "    for i in range(0,n):\n",
        "        Vt[i] = veps_AtA[L_AtA[i]]\n",
        "    print(\"U=\\n\", U)\n",
        "    print(\"V^T=\\n\", Vt)\n",
        "    print(\"S=\\n\", S)\n",
        "    print('USVt (=A up to column change of sign)\\n',U.dot(S).dot(Vt))\n",
        "\n",
        "print('A',A)\n",
        "SVD_spec(A)"
      ],
      "execution_count": null,
      "outputs": [
        {
          "output_type": "stream",
          "text": [
            "A [[1 2]\n",
            " [3 4]\n",
            " [5 6]]\n",
            "eigenvalues AAt\n",
            " [  9.07354949e+01+0.j   2.64505087e-01+0.j  -3.00460789e-15+0.j]\n",
            "eigenvalues AtA\n",
            " [  0.26450509+0.j  90.73549491+0.j]\n",
            "U=\n",
            " [[-0.2298477  -0.88346102  0.40824829]\n",
            " [-0.52474482 -0.24078249 -0.81649658]\n",
            " [-0.81964194  0.40189603  0.40824829]]\n",
            "V^T=\n",
            " [[ 0.61962948 -0.78489445]\n",
            " [-0.78489445 -0.61962948]]\n",
            "S=\n",
            " [[ 9.52551809  0.        ]\n",
            " [ 0.          0.51430058]\n",
            " [ 0.          0.        ]]\n",
            "USVt (=A up to column change of sign)\n",
            " [[-1.  2.]\n",
            " [-3.  4.]\n",
            " [-5.  6.]]\n"
          ],
          "name": "stdout"
        }
      ]
    },
    {
      "cell_type": "markdown",
      "metadata": {
        "id": "F0uA1KLUbAMM",
        "colab_type": "text"
      },
      "source": [
        "This implementation is inefficient and just for showing, but we can relate its result to LS"
      ]
    },
    {
      "cell_type": "markdown",
      "metadata": {
        "id": "br04kAxLbAMN",
        "colab_type": "text"
      },
      "source": [
        "### LS using SVD\n",
        "\n",
        "Solve a least squares problem $Ax=b$ using the SVD $A=U \\Sigma V^T$ by multiplying left-wise by the pseudo-inverse matrix $V S^{-T} U^T$"
      ]
    },
    {
      "cell_type": "code",
      "metadata": {
        "id": "1UeGvt0FbAMN",
        "colab_type": "code",
        "colab": {},
        "outputId": "d01ae470-b6d5-48df-a075-3b5e6dc553f0"
      },
      "source": [
        "def pseudo_inv(A):\n",
        "    m,n=A.shape\n",
        "    U,s,V=np.linalg.svd(A)\n",
        "    print('U\\n',U)\n",
        "    print('s',s)\n",
        "    print('V',V)\n",
        "    S_inv = np.zeros((m,n))\n",
        "    for i in range(n):\n",
        "        S_inv[i,i]=1/s[i]\n",
        "    return V.dot(S_inv.T).dot(U.T)\n",
        "\n",
        "def LS_svd(A,b):    \n",
        "    pseudo_inv_A = pseudo_inv(A)\n",
        "    return pseudo_inv_A.dot(b)\n",
        "\n",
        "A=np.array([\n",
        "    [1,2],\n",
        "    [3,4],\n",
        "    [5,6],\n",
        "])\n",
        "b=np.array([\n",
        "    [0],\n",
        "    [1],\n",
        "    [-1]\n",
        "])\n",
        "x=LS_svd(A,b)\n",
        "print('x',x)\n",
        "print('err',np.linalg.norm(A.dot(x)-b))"
      ],
      "execution_count": null,
      "outputs": [
        {
          "output_type": "stream",
          "text": [
            "U\n",
            " [[-0.2298477   0.88346102  0.40824829]\n",
            " [-0.52474482  0.24078249 -0.81649658]\n",
            " [-0.81964194 -0.40189603  0.40824829]]\n",
            "s [ 9.52551809  0.51430058]\n",
            "V [[-0.61962948 -0.78489445]\n",
            " [-0.78489445  0.61962948]]\n",
            "x [[-1.  ]\n",
            " [ 0.75]]\n",
            "err 1.22474487139\n"
          ],
          "name": "stdout"
        }
      ]
    },
    {
      "cell_type": "markdown",
      "metadata": {
        "id": "1pv312ApbAMQ",
        "colab_type": "text"
      },
      "source": [
        "## Power method\n",
        "\n",
        "Find the dominant eigenvalue and eigenvector by iterating left-wise product and normalization until convergence."
      ]
    },
    {
      "cell_type": "code",
      "metadata": {
        "id": "EpO38gFLbAMQ",
        "colab_type": "code",
        "colab": {},
        "outputId": "974ec275-03d9-46dd-a3dc-47e05cd83bf6"
      },
      "source": [
        "def power_method(A):\n",
        "    x=np.ones(A.shape[1])\n",
        "    y=2*x\n",
        "    k=1\n",
        "    while np.linalg.norm(x-y,np.inf)>1e-10:\n",
        "        x=y\n",
        "        y=A.dot(x)\n",
        "        y/=np.linalg.norm(y)\n",
        "        k+=1\n",
        "    return x\n",
        "\n",
        "A=np.array([[1,2],[3,4]])\n",
        "print('A',A)\n",
        "x=power_method(A)\n",
        "print('unit eigenvector',x)\n",
        "print('Ax/x',A.dot(x)/x)\n",
        "print('eigenvalue',x.dot(A).dot(x))"
      ],
      "execution_count": null,
      "outputs": [
        {
          "output_type": "stream",
          "text": [
            "A [[1 2]\n",
            " [3 4]]\n",
            "unit eigenvector [ 0.41597356  0.90937671]\n",
            "Ax/x [ 5.37228132  5.37228132]\n",
            "eigenvalue 5.37228132326\n"
          ],
          "name": "stdout"
        }
      ]
    },
    {
      "cell_type": "markdown",
      "metadata": {
        "id": "XOb3qJvTbAMU",
        "colab_type": "text"
      },
      "source": [
        "## Orthogonal Iteration (Schur)\n",
        "\n",
        "Transform a matrix $A$ into an right upper matrix $R$ by an orthogonal change of basis $Q$, $Q^TQ=I$, as $A=Q R Q^T$.\n",
        "\n",
        "Iterate the right-wise product of $A$ by $Q$, $Y=A Q_i$ and QR decomposition, $Y=Q_{i+1}R$, until convergence $Q_i=Q_{i+1}=Q$ ie $AQ=QR$ ie $A=QRQ^T$."
      ]
    },
    {
      "cell_type": "code",
      "metadata": {
        "id": "OZjhW1iHbAMV",
        "colab_type": "code",
        "colab": {},
        "outputId": "4c420ef4-ba2e-43e7-99dc-5caba1b0b90f"
      },
      "source": [
        "def OI(A):\n",
        "    Q=np.eye(A.shape[0])\n",
        "    R=np.eye(A.shape[0])\n",
        "    Y=A.dot(Q)\n",
        "    X=Y.copy()\n",
        "    k=1\n",
        "    while k<3 or spla.norm(Y-X,np.inf)>1e-10:\n",
        "        X=Y.copy()      \n",
        "        Y=A.dot(Q)\n",
        "        Q,R=np.linalg.qr(Y)\n",
        "        k+=1\n",
        "    print(k,'iterations')\n",
        "    return Q,R\n",
        "\n",
        "print('A',A)\n",
        "Q,R=OI(A)\n",
        "print('R (schur form)\\n',R)\n",
        "print('Q\\n',Q)\n",
        "print('QRQt recovers A\\n',Q.dot(R).dot(Q.T))"
      ],
      "execution_count": null,
      "outputs": [
        {
          "output_type": "stream",
          "text": [
            "A [[1 2]\n",
            " [3 4]]\n",
            "13 iterations\n",
            "R (schur form)\n",
            " [[ 5.37228132  1.        ]\n",
            " [ 0.         -0.37228132]]\n",
            "Q\n",
            " [[-0.41597356 -0.90937671]\n",
            " [-0.90937671  0.41597356]]\n",
            "QRQt recovers A\n",
            " [[ 1.  2.]\n",
            " [ 3.  4.]]\n"
          ],
          "name": "stdout"
        }
      ]
    },
    {
      "cell_type": "markdown",
      "metadata": {
        "id": "VaBsUbZwbAMY",
        "colab_type": "text"
      },
      "source": [
        "## QR iteration"
      ]
    },
    {
      "cell_type": "code",
      "metadata": {
        "id": "YdAtO2QEbAMZ",
        "colab_type": "code",
        "colab": {},
        "outputId": "f2217cb5-be63-423d-8562-e089c6963380"
      },
      "source": [
        "def QRI(A):\n",
        "    Y=A\n",
        "    Q,R=np.zeros(n),np.zeros(n)\n",
        "    X=Y.copy()\n",
        "    k=1\n",
        "    while k<3 or spla.norm(Y-X,np.inf)>1e-10:\n",
        "        X=Y.copy()\n",
        "        Q,R=np.linalg.qr(Y)\n",
        "        Y=R.dot(Q)\n",
        "        k+=1\n",
        "    print(k,'iterations')\n",
        "    return Q,R\n",
        "\n",
        "print('A',A)\n",
        "Q,R=QRI(A)\n",
        "print('R\\n',R)\n",
        "print('Q\\n',Q)\n",
        "print('QRQt is R\\n',Q.dot(R).dot(Q.T))"
      ],
      "execution_count": null,
      "outputs": [
        {
          "output_type": "stream",
          "text": [
            "A [[1 2]\n",
            " [3 4]]\n",
            "283 iterations\n",
            "R\n",
            " [[ 5.37228132  1.        ]\n",
            " [ 0.         -0.37228132]]\n",
            "Q\n",
            " [[ 1.  0.]\n",
            " [-0.  1.]]\n",
            "QRQt is R\n",
            " [[ 5.37228132  1.        ]\n",
            " [ 0.         -0.37228132]]\n"
          ],
          "name": "stdout"
        }
      ]
    },
    {
      "cell_type": "markdown",
      "metadata": {
        "id": "YTbCBBGEbAMd",
        "colab_type": "text"
      },
      "source": [
        "Actually this is for hessenberg..."
      ]
    },
    {
      "cell_type": "markdown",
      "metadata": {
        "id": "KqJlQtJObAMe",
        "colab_type": "text"
      },
      "source": [
        "## Iterative Methods\n",
        "\n",
        "The following methods solve a linear system $Ax=b$ iteratively.\n",
        "\n",
        "We call $L$ the lower part of $A$, $U$ the upper and $D$ the diagonal: $A=D+L+U$"
      ]
    },
    {
      "cell_type": "code",
      "metadata": {
        "id": "GXc_S4CRbAMf",
        "colab_type": "code",
        "colab": {}
      },
      "source": [
        "A=np.array(\n",
        "[\n",
        "    [4,-1,-1,0],\n",
        "    [-1,4,0,-1],\n",
        "    [-1,0,4,-1],\n",
        "    [0,-1,-1,4]\n",
        "])\n",
        "b=np.array([1,2,0,1])\n",
        "n=A.shape[0]\n",
        "\n",
        "def LDU(A):\n",
        "    L=np.tril(A,-1)\n",
        "    D=np.diag(np.diag(A))\n",
        "    U=np.triu(A,1)\n",
        "    return L,D,U\n",
        "L,D,U=LDU(A)\n",
        "#print(L,'\\n',D,'\\n',U)"
      ],
      "execution_count": null,
      "outputs": []
    },
    {
      "cell_type": "markdown",
      "metadata": {
        "id": "VINdtAIkbAMi",
        "colab_type": "text"
      },
      "source": [
        "### Jacobi\n",
        "\n",
        "Rewrite the equations of $Ax=b$, $$a_{i1}x_1+a_{i2}x_2+\\ldots+a_{in}x_n=b_i$$\n",
        "as\n",
        "$$x_i = \\frac{b_i - a_{i2}x_2 -\\ldots - a_{in}x_n}{a_{ii}}$$\n",
        "and iterate until convergence.\n",
        "\n",
        "Note that in vector form, we can write $x+\\left(b-Ax\\right) \\cdot diag(A)^{-1}$."
      ]
    },
    {
      "cell_type": "code",
      "metadata": {
        "id": "xbhxbSjXbAMi",
        "colab_type": "code",
        "colab": {},
        "outputId": "b526f853-4f0b-4d2c-893f-1d0cf5fcfca7"
      },
      "source": [
        "def jacobistep(A,b,x):\n",
        "    #n=A.shape[1]\n",
        "    #y=np.zeros(n)\n",
        "    #for i in range(n):\n",
        "    #    suma=0\n",
        "    #    for j in range(i):\n",
        "    #        suma+=A[i,j]*x[j]\n",
        "    #    for j in range(i+1,n):\n",
        "    #        suma+=A[i,j]*x[j]\n",
        "    #    y[i]=(b[i]-suma)/A[i,i]\n",
        "    #return y\n",
        "    ##equivalent to \n",
        "    return x+(b-np.dot(A,x))/np.diag(A)\n",
        "    \n",
        "def Jacobi(A,b,x_0):\n",
        "    nor = 1\n",
        "    k=0\n",
        "    while nor > 1e-9 and k<100:\n",
        "        x=jacobistep(A,b,x_0)\n",
        "        k = k+1\n",
        "        nor = np.linalg.norm(x-x_0)\n",
        "        x_0 = x\n",
        "    print(k,'iterations')\n",
        "    return x\n",
        "\n",
        "x_0=np.zeros(n)\n",
        "x = Jacobi(A,b,x_0)\n",
        "print('x',x)\n",
        "print('|Ax-b|',np.linalg.norm(A.dot(x)-b))\n",
        "\n",
        "R_J = np.dot(np.linalg.inv(D),L+U)\n",
        "rho = max(abs(np.linalg.eigvals(R_J)))\n",
        "print('Spectral Radius RJ =', rho)\n",
        "print('Rate of convergence RJ = ', -np.log10(rho))"
      ],
      "execution_count": null,
      "outputs": [
        {
          "output_type": "stream",
          "text": [
            "30 iterations\n",
            "x [ 0.5   0.75  0.25  0.5 ]\n",
            "|Ax-b| 1.86264514923e-09\n",
            "Spectral Radius RJ = 0.5\n",
            "Rate of convergence RJ =  0.301029995664\n"
          ],
          "name": "stdout"
        }
      ]
    },
    {
      "cell_type": "markdown",
      "metadata": {
        "id": "fZQerudCbAMq",
        "colab_type": "text"
      },
      "source": [
        "### Gauss Seidel\n",
        "\n",
        "Jacobi method but using the components already computed in the current iteration instead of the ones from the previous iteration."
      ]
    },
    {
      "cell_type": "code",
      "metadata": {
        "id": "sudFMmVBbAMr",
        "colab_type": "code",
        "colab": {},
        "outputId": "03ae36b1-90e9-489a-faa0-0d31a9851851"
      },
      "source": [
        "def gauss_seidelstep(A,b,x):\n",
        "    n=A.shape[1]\n",
        "    y=np.zeros(n)\n",
        "    for i in range(n):\n",
        "        suma=0\n",
        "        for j in range(i):\n",
        "            suma+=A[i,j]*y[j]\n",
        "        for j in range(i+1,n):\n",
        "            suma+=A[i,j]*x[j]\n",
        "        y[i]=(b[i]-suma)/A[i,i]\n",
        "    return y\n",
        "\n",
        "def Gauss_Seidel(A,b,x_0):\n",
        "    nor = 1\n",
        "    k=0\n",
        "    while nor > 1e-9 and k<100:\n",
        "        x = gauss_seidelstep(A,b,x_0)\n",
        "        k = k+1\n",
        "        nor = np.linalg.norm(x-x_0)\n",
        "        x_0 = x\n",
        "    print(k,'iterations')\n",
        "    return x\n",
        "\n",
        "x_0=np.zeros(n)\n",
        "x = Gauss_Seidel(A,b,x_0)\n",
        "print('x',x)\n",
        "print('|Ax-b|',np.linalg.norm(A.dot(x)-b))\n",
        "\n",
        "R_GS = np.dot(np.linalg.inv(D-L),U)\n",
        "rho = max(abs(np.linalg.eigvals(R_GS)))\n",
        "print('Spectral Radius RGS =', rho)\n",
        "print('Rate of convergence RGS = ', -np.log10(rho))"
      ],
      "execution_count": null,
      "outputs": [
        {
          "output_type": "stream",
          "text": [
            "17 iterations\n",
            "x [ 0.5   0.75  0.25  0.5 ]\n",
            "|Ax-b| 2.77823464305e-10\n",
            "Spectral Radius RGS = 0.25\n",
            "Rate of convergence RGS =  0.602059991328\n"
          ],
          "name": "stdout"
        }
      ]
    },
    {
      "cell_type": "markdown",
      "metadata": {
        "id": "7KYAn7vDbAMu",
        "colab_type": "text"
      },
      "source": [
        "### SOR(w)\n",
        "\n",
        "Make a weighted sum between the current and previous iterate to try to speed up convergence\n",
        "\n",
        "$(1-w)x_i^{k-1} + w x_i^k$"
      ]
    },
    {
      "cell_type": "code",
      "metadata": {
        "id": "qcx1euRobAMu",
        "colab_type": "code",
        "colab": {},
        "outputId": "a5a6ca6e-b5fd-41e6-d791-516f02fc7c41"
      },
      "source": [
        "def SORstep(A,b,x,w):\n",
        "    n=A.shape[1]\n",
        "    y=np.zeros(n)\n",
        "    for i in range(0,n):\n",
        "        suma=0\n",
        "        for j in range(0,i):\n",
        "            suma=suma+A[i,j]*y[j]\n",
        "        for j in range(i+1,n):\n",
        "            suma=suma+A[i,j]*x[j]\n",
        "        y[i] = (1-w)*x[i]+w*(b[i]-suma)/A[i,i]\n",
        "    #y = (1-w)*x + w*gauss_seidelstep(A,b,x) #not the same, recursion on i, not parallelism\n",
        "    return y\n",
        "\n",
        "def SOR(A,b,x_0,w):\n",
        "    nor = 1\n",
        "    k=0\n",
        "    while nor > 1e-9 and k<100:\n",
        "        x = SORstep(A,b,x_0,w)\n",
        "        k = k+1\n",
        "        nor = np.linalg.norm(x-x_0)\n",
        "        x_0 = x\n",
        "    print(k,'iterations')\n",
        "    return x\n",
        "\n",
        "w = 0.5\n",
        "x_0=np.zeros(n)\n",
        "x = SOR(A,b,x_0,w)\n",
        "print('x',x)\n",
        "print('|Ax-b|',np.linalg.norm(A.dot(x)-b))\n",
        "\n",
        "R_SOR = np.dot(np.linalg.inv(D-w*L),((1-w)*D + w*U))\n",
        "rho = max(abs(np.linalg.eigvals(R_SOR)))\n",
        "print('Spectral Radius RGS =', rho)\n",
        "print('Rate of convergence RGS = ', -np.log10(rho))"
      ],
      "execution_count": null,
      "outputs": [
        {
          "output_type": "stream",
          "text": [
            "59 iterations\n",
            "x [ 0.5   0.75  0.25  0.5 ]\n",
            "|Ax-b| 3.78450073651e-09\n",
            "Spectral Radius RGS = 0.710767582704\n",
            "Rate of convergence RGS =  0.148272388089\n"
          ],
          "name": "stdout"
        }
      ]
    }
  ]
}